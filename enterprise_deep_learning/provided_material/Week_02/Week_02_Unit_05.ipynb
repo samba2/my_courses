{
 "cells": [
  {
   "cell_type": "markdown",
   "metadata": {},
   "source": [
    "# Enterprise Deep Learning with TensorFlow: openSAP \n",
    "\n",
    "## SAP Innovation Center Network\n",
    "```\n",
    "Licensed under the Apache License, Version 2.0 (the \"License\");\n",
    "you may not use this file except in compliance with the License.\n",
    "You may obtain a copy of the License at\n",
    "\n",
    "    http://www.apache.org/licenses/LICENSE-2.0\n",
    "\n",
    "Unless required by applicable law or agreed to in writing, software\n",
    "distributed under the License is distributed on an \"AS IS\" BASIS,\n",
    "WITHOUT WARRANTIES OR CONDITIONS OF ANY KIND, either express or implied.\n",
    "See the License for the specific language governing permissions and\n",
    "limitations under the License.\n",
    "```"
   ]
  },
  {
   "cell_type": "markdown",
   "metadata": {},
   "source": [
    "### Deploying Neural Networks with TensorFlow Serving\n",
    "\n",
    "In this notebook, we provide an end-to-end example of training, evaluating and deploying a machine learning application using TensorFlow Serving. We will train and evaluate a deep neural network using the high-level Estimator API which is also used to save the trained model. We will then export the trained model for deployment on TensorFlow Serving. Although TensorFlow Serving is a server, which is called by a client for making inference on new data, we will be simulating both the client and the server in this notebook.\n",
    "\n",
    "#### Data\n",
    "We will be using the Iris data [https://en.wikipedia.org/wiki/Iris_flower_data_set] for classifying inputs into specific flower types. More specifically, the data consists of four different attributes of a flower such as sepal width, sepal length, petal width and petal length which are used to predict the species of a flower. We will use these four attributes to build a classifier that will learn to predict the species of the flower.\n",
    "\n",
    "#### Steps \n",
    "- Load the data from CSV files\n",
    "- Construct a neural network using TensorFlow Estimator API\n",
    "- Train the model using the Iris training data\n",
    "- Evaluate accuracy of trained model on Iris test data\n",
    "- Save model to local file system\n",
    "- Export saved model to be capable of deploying on TensorFlow Serving\n",
    "- Load the exported model into a new session\n",
    "- Predict on new sample data"
   ]
  },
  {
   "cell_type": "code",
   "execution_count": null,
   "metadata": {
    "collapsed": true
   },
   "outputs": [],
   "source": [
    "# Import statements\n",
    "from __future__ import absolute_import\n",
    "from __future__ import division\n",
    "from __future__ import print_function\n",
    "\n",
    "import os\n",
    "import urllib\n",
    "\n",
    "import numpy as np\n",
    "import tensorflow as tf\n",
    "\n",
    "print('This code requires TensorFlow v1.3+')\n",
    "print('You have:', tf.__version__)"
   ]
  },
  {
   "cell_type": "code",
   "execution_count": null,
   "metadata": {
    "collapsed": true
   },
   "outputs": [],
   "source": [
    "# Dataset paths\n",
    "IRIS_TRAINING = \"./data/iris_training.csv\"\n",
    "IRIS_TEST = \"./data/iris_test.csv\"\n",
    "\n",
    "# URLs to download the datasets if not available locally\n",
    "IRIS_TEST_URL = \"http://download.tensorflow.org/data/iris_test.csv\"\n",
    "IRIS_TRAINING_URL = \"http://download.tensorflow.org/data/iris_training.csv\"\n",
    "\n",
    "INPUT_TENSOR_NAME = 'inputs'\n",
    "\n",
    "model_path = \"./model\"\n",
    "model_path_serving = \"./model_serving\""
   ]
  },
  {
   "cell_type": "code",
   "execution_count": null,
   "metadata": {
    "collapsed": false
   },
   "outputs": [],
   "source": [
    "# Download the train and test data, if not found on local file system\n",
    "!wget http://download.tensorflow.org/data/iris_test.csv --directory-prefix=./data/\n",
    "!wget http://download.tensorflow.org/data/iris_training.csv --directory-prefix=./data/\n"
   ]
  },
  {
   "cell_type": "markdown",
   "metadata": {},
   "source": [
    "#### Input functions\n",
    "Input functions are used by the tf.estimator API. These function create TensorFlow operations which generate data for the model to consume. The tf.estimator.inputs.numpy_input_fn is used to produce such an input pipeline."
   ]
  },
  {
   "cell_type": "code",
   "execution_count": null,
   "metadata": {
    "collapsed": false,
    "scrolled": true
   },
   "outputs": [],
   "source": [
    "def estimator(model_path):\n",
    "    feature_columns = [tf.feature_column.numeric_column(INPUT_TENSOR_NAME, shape=[4])]\n",
    "    return tf.estimator.DNNClassifier(feature_columns=feature_columns,\n",
    "                                      hidden_units=[10, 20, 30],\n",
    "                                      n_classes=3,\n",
    "                                      model_dir=model_path)"
   ]
  },
  {
   "cell_type": "code",
   "execution_count": null,
   "metadata": {
    "collapsed": true
   },
   "outputs": [],
   "source": [
    "def train_input_fn():\n",
    "    training_set = tf.contrib.learn.datasets.base.load_csv_with_header(\n",
    "        filename=IRIS_TRAINING,\n",
    "        target_dtype=np.int,\n",
    "        features_dtype=np.float32)\n",
    "\n",
    "    return tf.estimator.inputs.numpy_input_fn(\n",
    "        x={INPUT_TENSOR_NAME: np.array(training_set.data)},\n",
    "        y=np.array(training_set.target),\n",
    "        num_epochs=None,\n",
    "        shuffle=True)()"
   ]
  },
  {
   "cell_type": "code",
   "execution_count": null,
   "metadata": {
    "collapsed": true
   },
   "outputs": [],
   "source": [
    "def test_input_fn():\n",
    "    testing_set = tf.contrib.learn.datasets.base.load_csv_with_header(\n",
    "        filename=IRIS_TEST,\n",
    "        target_dtype=np.int,\n",
    "        features_dtype=np.float32)\n",
    "\n",
    "    return tf.estimator.inputs.numpy_input_fn(\n",
    "        x={INPUT_TENSOR_NAME: np.array(testing_set.data)},\n",
    "        y=np.array(testing_set.target),\n",
    "        num_epochs=1,\n",
    "        shuffle=False)()"
   ]
  },
  {
   "cell_type": "code",
   "execution_count": null,
   "metadata": {
    "collapsed": true
   },
   "outputs": [],
   "source": [
    "def serving_input_receiver_fn():\n",
    "    feature_spec = {INPUT_TENSOR_NAME: tf.FixedLenFeature(dtype=tf.float32, shape=[4])}\n",
    "    return tf.estimator.export.build_parsing_serving_input_receiver_fn(feature_spec)()"
   ]
  },
  {
   "cell_type": "code",
   "execution_count": null,
   "metadata": {
    "collapsed": false,
    "scrolled": true
   },
   "outputs": [],
   "source": [
    "classifier = estimator(model_path)\n",
    "\n",
    "# Train model using the train input function, for 2000 steps\n",
    "classifier.train(input_fn=train_input_fn, steps=2000)\n",
    "\n",
    "# Evaluate accuracy of the trained model using the test input pipeline\n",
    "accuracy_score = classifier.evaluate(input_fn=test_input_fn)[\"accuracy\"]\n",
    "print(\"\\nTest Accuracy: {0:f}\\n\".format(accuracy_score))"
   ]
  },
  {
   "cell_type": "markdown",
   "metadata": {},
   "source": [
    "#### Exporting saved model\n",
    "The Estimator API saves the model in a format that can be used to resume training or for inference. However, we might also want to create a service from the trained model that would take in requests and return results. Such a service can either be run locally on our machine, or be deployed on a server or scalably in the cloud.\n",
    "\n",
    "In the following cells, we will export the model and run such a service locally and perform inference on new test data. "
   ]
  },
  {
   "cell_type": "code",
   "execution_count": null,
   "metadata": {
    "collapsed": false
   },
   "outputs": [],
   "source": [
    "# Export trained model, returns the path to the saved model\n",
    "save_path = classifier.export_savedmodel(model_path_serving, serving_input_receiver_fn)"
   ]
  },
  {
   "cell_type": "code",
   "execution_count": null,
   "metadata": {
    "collapsed": true
   },
   "outputs": [],
   "source": [
    "# Create methods that would maintain the session using the model path as an id\n",
    "sess_dict = {}\n",
    "def get_session(model_id):\n",
    "    global sess_dict\n",
    "    config = tf.ConfigProto(allow_soft_placement=True)\n",
    "    sess_dict[model_id] = tf.Session(config=config)\n",
    "    return sess_dict[model_id]\n",
    "\n",
    "def load_tf_model(model_path):\n",
    "    sess = get_session(model_path)\n",
    "    tf.saved_model.loader.load(sess, [tf.saved_model.tag_constants.SERVING], model_path)\n",
    "    return sess"
   ]
  },
  {
   "cell_type": "code",
   "execution_count": null,
   "metadata": {
    "collapsed": false
   },
   "outputs": [],
   "source": [
    "# Load the exported model and restore the session\n",
    "sess = load_tf_model(save_path)"
   ]
  },
  {
   "cell_type": "markdown",
   "metadata": {},
   "source": [
    "#### Debugging the restored graph\n",
    "In most cases, the exported graphs would be provided as models to be served. It is hence a good practice to know operation name of the graph that would accept the input and the operation name that can be used to obtain the final output scores / probabilities."
   ]
  },
  {
   "cell_type": "code",
   "execution_count": null,
   "metadata": {
    "collapsed": false
   },
   "outputs": [],
   "source": [
    "# Use the restored graph's get_operations() method to know all the names of the ops available in the current graph\n",
    "for op in tf.get_default_graph().get_operations():\n",
    "    print (str(op.name))"
   ]
  },
  {
   "cell_type": "code",
   "execution_count": null,
   "metadata": {
    "collapsed": true
   },
   "outputs": [],
   "source": [
    "input_x_holder = sess.graph.get_operation_by_name(\"input_example_tensor\").outputs[0]"
   ]
  },
  {
   "cell_type": "code",
   "execution_count": null,
   "metadata": {
    "collapsed": true
   },
   "outputs": [],
   "source": [
    "predictions_holder = sess.graph.get_operation_by_name(\"dnn/head/predictions/probabilities\").outputs[0]"
   ]
  },
  {
   "cell_type": "code",
   "execution_count": null,
   "metadata": {
    "collapsed": false
   },
   "outputs": [],
   "source": [
    "# Predict on a new set of inputs [6.7, 2.5, 5.8, 1.8] which belongs to class 2\n",
    "float_features = tf.train.Feature(float_list=tf.train.FloatList(value=[6.7, 2.5, 5.8, 1.8]))\n",
    "feature_dict = {\"inputs\": float_features}\n",
    "example = tf.train.Example(features=tf.train.Features(feature=feature_dict))\n",
    "serialized = example.SerializeToString()\n",
    "score = sess.run([predictions_holder], {input_x_holder: [serialized]})"
   ]
  },
  {
   "cell_type": "code",
   "execution_count": null,
   "metadata": {
    "collapsed": false
   },
   "outputs": [],
   "source": [
    "print([\"%.4f\" % score[0][0][idx] for idx in range(len(score[0][0]))])"
   ]
  },
  {
   "cell_type": "code",
   "execution_count": null,
   "metadata": {
    "collapsed": false
   },
   "outputs": [],
   "source": [
    "# Let us print the index of the largest score \n",
    "print(np.argmax(score))"
   ]
  },
  {
   "cell_type": "markdown",
   "metadata": {},
   "source": [
    "#### Summary\n",
    "We were able to train, save, export and serve a model using TensorFlow's Estimator API and Serving. Although we showed an example of serving the model on the local file system, we can use the same method to deploy to a separate machine and infer the same results by posting the test data using the IP address of that machine."
   ]
  }
 ],
 "metadata": {
  "anaconda-cloud": {},
  "kernelspec": {
   "display_name": "Python [conda env:py36]",
   "language": "python",
   "name": "conda-env-py36-py"
  },
  "language_info": {
   "codemirror_mode": {
    "name": "ipython",
    "version": 3
   },
   "file_extension": ".py",
   "mimetype": "text/x-python",
   "name": "python",
   "nbconvert_exporter": "python",
   "pygments_lexer": "ipython3",
   "version": "3.6.2"
  }
 },
 "nbformat": 4,
 "nbformat_minor": 2
}
